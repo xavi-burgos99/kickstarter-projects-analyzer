{
 "cells": [
  {
   "cell_type": "markdown",
   "metadata": {},
   "source": [
    "# Kickstarte Projects Analyzer\n",
    "\n",
    "This code, created by [Xavi Burgos](https://xburgos.es/) analyzes distinct Kickstarter projects using a [Kaggle case](https://www.kaggle.com/kemical/kickstarter-projects), with machine learning, learned at Computer Learning course at [Universitat Autònoma de Barcelona](https://www.uab.cat/)."
   ]
  },
  {
   "cell_type": "markdown",
   "metadata": {},
   "source": [
    "# 1. Importing libraries\n",
    "\n",
    "Import all the libraries needed for the project."
   ]
  },
  {
   "cell_type": "code",
   "execution_count": 4,
   "metadata": {},
   "outputs": [],
   "source": [
    "import os\n",
    "\n",
    "import src.eda as eda\n",
    "import src.pp as pp"
   ]
  },
  {
   "cell_type": "markdown",
   "metadata": {},
   "source": [
    "# 2. Exploratory Data Analysis (EDA)\n",
    "\n",
    "Explore the data using different techniques to get a better understanding of the data."
   ]
  },
  {
   "cell_type": "markdown",
   "metadata": {},
   "source": [
    "Read CSV file and check the first rows:"
   ]
  },
  {
   "cell_type": "code",
   "execution_count": 5,
   "metadata": {},
   "outputs": [
    {
     "name": "stderr",
     "output_type": "stream",
     "text": [
      "/Users/xavi/Documents/GitHub/kickstarter/src/eda.py:24: DtypeWarning: Columns (13,14,15) have mixed types. Specify dtype option on import or set low_memory=False.\n",
      "  return pd.read_csv(path, encoding=\"cp1252\")\n"
     ]
    },
    {
     "data": {
      "text/html": [
       "<div>\n",
       "<style scoped>\n",
       "    .dataframe tbody tr th:only-of-type {\n",
       "        vertical-align: middle;\n",
       "    }\n",
       "\n",
       "    .dataframe tbody tr th {\n",
       "        vertical-align: top;\n",
       "    }\n",
       "\n",
       "    .dataframe thead th {\n",
       "        text-align: right;\n",
       "    }\n",
       "</style>\n",
       "<table border=\"1\" class=\"dataframe\">\n",
       "  <thead>\n",
       "    <tr style=\"text-align: right;\">\n",
       "      <th></th>\n",
       "      <th>ID</th>\n",
       "      <th>name</th>\n",
       "      <th>category</th>\n",
       "      <th>main_category</th>\n",
       "      <th>currency</th>\n",
       "      <th>deadline</th>\n",
       "      <th>goal</th>\n",
       "      <th>launched</th>\n",
       "      <th>pledged</th>\n",
       "      <th>state</th>\n",
       "      <th>backers</th>\n",
       "      <th>country</th>\n",
       "      <th>usd pledged</th>\n",
       "      <th>Unnamed: 13</th>\n",
       "      <th>Unnamed: 14</th>\n",
       "      <th>Unnamed: 15</th>\n",
       "      <th>Unnamed: 16</th>\n",
       "    </tr>\n",
       "  </thead>\n",
       "  <tbody>\n",
       "    <tr>\n",
       "      <th>0</th>\n",
       "      <td>1000002330</td>\n",
       "      <td>The Songs of Adelaide &amp; Abullah</td>\n",
       "      <td>Poetry</td>\n",
       "      <td>Publishing</td>\n",
       "      <td>GBP</td>\n",
       "      <td>2015-10-09 11:36:00</td>\n",
       "      <td>1000</td>\n",
       "      <td>2015-08-11 12:12:28</td>\n",
       "      <td>0</td>\n",
       "      <td>failed</td>\n",
       "      <td>0</td>\n",
       "      <td>GB</td>\n",
       "      <td>0</td>\n",
       "      <td>NaN</td>\n",
       "      <td>NaN</td>\n",
       "      <td>NaN</td>\n",
       "      <td>NaN</td>\n",
       "    </tr>\n",
       "    <tr>\n",
       "      <th>1</th>\n",
       "      <td>1000004038</td>\n",
       "      <td>Where is Hank?</td>\n",
       "      <td>Narrative Film</td>\n",
       "      <td>Film &amp; Video</td>\n",
       "      <td>USD</td>\n",
       "      <td>2013-02-26 00:20:50</td>\n",
       "      <td>45000</td>\n",
       "      <td>2013-01-12 00:20:50</td>\n",
       "      <td>220</td>\n",
       "      <td>failed</td>\n",
       "      <td>3</td>\n",
       "      <td>US</td>\n",
       "      <td>220</td>\n",
       "      <td>NaN</td>\n",
       "      <td>NaN</td>\n",
       "      <td>NaN</td>\n",
       "      <td>NaN</td>\n",
       "    </tr>\n",
       "  </tbody>\n",
       "</table>\n",
       "</div>"
      ],
      "text/plain": [
       "          ID                             name        category  main_category   \\\n",
       "0  1000002330  The Songs of Adelaide & Abullah          Poetry     Publishing   \n",
       "1  1000004038                   Where is Hank?  Narrative Film   Film & Video   \n",
       "\n",
       "  currency             deadline   goal             launched  pledged   state   \\\n",
       "0       GBP  2015-10-09 11:36:00   1000  2015-08-11 12:12:28        0  failed   \n",
       "1       USD  2013-02-26 00:20:50  45000  2013-01-12 00:20:50      220  failed   \n",
       "\n",
       "  backers  country  usd pledged  Unnamed: 13 Unnamed: 14 Unnamed: 15  \\\n",
       "0        0       GB            0         NaN         NaN         NaN   \n",
       "1        3       US          220         NaN         NaN         NaN   \n",
       "\n",
       "   Unnamed: 16  \n",
       "0          NaN  \n",
       "1          NaN  "
      ]
     },
     "execution_count": 5,
     "metadata": {},
     "output_type": "execute_result"
    }
   ],
   "source": [
    "# Set up the data path\n",
    "csv_path = 'data/csv/ks-projects-201612.csv'\n",
    "\n",
    "# Get the dataframe\n",
    "df = eda.get_dataframe(csv_path)\n",
    "\n",
    "# Print the dataframe 2 first rows of the dataframe\n",
    "df.head(2)"
   ]
  },
  {
   "cell_type": "markdown",
   "metadata": {},
   "source": [
    "The last 4 columns are unnamed and have NaN values, so let's see what they are:"
   ]
  },
  {
   "cell_type": "code",
   "execution_count": 6,
   "metadata": {},
   "outputs": [
    {
     "name": "stdout",
     "output_type": "stream",
     "text": [
      "             ID                       name                   category   \\\n",
      "1454  1008705746  Zephyra´s new full length   'As The World Collapses'   \n",
      "\n",
      "     main_category  currency  deadline                 goal  launched   \\\n",
      "1454          Metal     Music       SEK  2016-02-02 00:56:46     15000   \n",
      "\n",
      "                 pledged  state  backers  country  usd pledged    Unnamed: 13  \\\n",
      "1454  2016-01-03 00:56:46   4262   failed       14           SE  504.94765278   \n",
      "\n",
      "     Unnamed: 14 Unnamed: 15  Unnamed: 16  \n",
      "1454         NaN         NaN          NaN  \n",
      "Empty DataFrame\n",
      "Columns: [ID , name , category , main_category , currency , deadline , goal , launched , pledged , state , backers , country , usd pledged , Unnamed: 13, Unnamed: 14, Unnamed: 15, Unnamed: 16]\n",
      "Index: []\n"
     ]
    }
   ],
   "source": [
    "# Print a row where the first unnamed column is not NaN\n",
    "eda.print_non_nans(df, 'Unnamed: 13', 1)\n",
    "\n",
    "# Print a row where the last unnamed column is not NaN\n",
    "eda.print_non_nans(df, 'Unnamed: 16', 1)"
   ]
  }
 ],
 "metadata": {
  "kernelspec": {
   "display_name": "Python 3",
   "language": "python",
   "name": "python3"
  },
  "language_info": {
   "codemirror_mode": {
    "name": "ipython",
    "version": 3
   },
   "file_extension": ".py",
   "mimetype": "text/x-python",
   "name": "python",
   "nbconvert_exporter": "python",
   "pygments_lexer": "ipython3",
   "version": "3.11.6"
  }
 },
 "nbformat": 4,
 "nbformat_minor": 2
}
